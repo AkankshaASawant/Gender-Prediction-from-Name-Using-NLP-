{
  "nbformat": 4,
  "nbformat_minor": 0,
  "metadata": {
    "colab": {
      "provenance": []
    },
    "kernelspec": {
      "name": "python3",
      "display_name": "Python 3"
    },
    "language_info": {
      "name": "python"
    }
  },
  "cells": [
    {
      "cell_type": "markdown",
      "source": [
        "# Prediction the Gender based on the Name\n",
      ],
      "metadata": {
        "id": "oZJ2sxpfWwtZ"
      }
    },
    {
      "cell_type": "markdown",
      "source": [
        "# Import Necessary Libraries"
      ],
      "metadata": {
        "id": "5jaRyh_P-ViG"
      }
    },
    {
      "cell_type": "code",
      "execution_count": null,
      "metadata": {
        "id": "Bj1zp_kf-FIJ"
      },
      "outputs": [],
      "source": [
        "import nltk\n",
        "from nltk.corpus import names\n",
        "import random\n",
        "import spacy\n",
        "from sklearn.feature_extraction import DictVectorizer\n",
        "from sklearn.naive_bayes import MultinomialNB\n",
        "from sklearn.metrics import accuracy_score\n",
        "import numpy as np"
      ]
    },
    {
      "cell_type": "markdown",
      "source": [
        "# Download the required data"
      ],
      "metadata": {
        "id": "_qyS4Yqz-Z7-"
      }
    },
    {
      "cell_type": "code",
      "source": [
        "# Download required data\n",
        "nltk.download('names')"
      ],
      "metadata": {
        "colab": {
          "base_uri": "https://localhost:8080/"
        },
        "id": "7w7RViay-hnv",
        "outputId": "a936775a-70ac-4e1a-fc91-f022d1a6c1a1"
      },
      "execution_count": null,
      "outputs": [
        {
          "output_type": "stream",
          "name": "stderr",
          "text": [
            "[nltk_data] Downloading package names to /root/nltk_data...\n",
            "[nltk_data]   Package names is already up-to-date!\n"
          ]
        },
        {
          "output_type": "execute_result",
          "data": {
            "text/plain": [
              "True"
            ]
          },
          "metadata": {},
          "execution_count": 3
        }
      ]
    },
    {
      "cell_type": "markdown",
      "source": [
        "# Add Common Indian Name Data"
      ],
      "metadata": {
        "id": "ampiGVa_wPEw"
      }
    },
    {
      "cell_type": "code",
      "source": [
        "# Adding common Indian names\n",
        "indian_male_names = [\n",
        "    'Mukesh', 'Kunal', 'Rahul', 'Amit', 'Suresh', 'Rajesh', 'Anil', 'Sunil',\n",
        "    'Aditya', 'Vijay', 'Ajay', 'Sanjay', 'Vinay', 'Ramesh', 'Dinesh', 'Mahesh',\n",
        "    'Rakesh', 'Vikas', 'Prakash', 'Raj', 'Deepak', 'Ashish', 'Manish', 'Ravi',\n",
        "    'Sachin', 'Anand', 'Mohit', 'Rohit', 'Sameer', 'Vivek', 'Ajinkya', 'Sahil',\n",
        "    'Harsh', 'Akshay', 'Nitin', 'Bhavesh', 'Dev', 'Kartik', 'Gaurav', 'Abhishek',\n",
        "    'Arjun', 'Yash', 'Varun', 'Chirag', 'Shivam', 'Ishan', 'Omkar', 'Ankur',\n",
        "    'Prem', 'Rudra', 'Kishore', 'Narendra', 'Himanshu', 'Swapnil', 'Kiran', 'Tushar',\n",
        "    'Tarun', 'Nilesh', 'Jatin', 'Pranav', 'Siddharth', 'Vasant', 'Shubham', 'Tejas',\n",
        "    'Arvind', 'Balraj', 'Chandan', 'Darshan', 'Eshwar', 'Farhan', 'Gopal', 'Harendra',\n",
        "    'Indrajit', 'Jaideep', 'Keshav', 'Lalit', 'Madhav', 'Neeraj', 'Omprakash', 'Parag',\n",
        "    'Pushkar', 'Raghav', 'Sandeep', 'Shankar', 'Suraj', 'Uday', 'Vijendra', 'Yuvraj',\n",
        "    'Akhil', 'Anupam', 'Chinmay', 'Deven', 'Hitesh', 'Jagdish', 'Kiran', 'Laxman',\n",
        "    'Naveen', 'Parth', 'Rajiv', 'Samarth', 'Tapan', 'Umesh', 'Balaji', 'Vishnu', 'Soham'\n",
        "]\n",
        "\n",
        "\n",
        "indian_female_names = [\n",
        "    'Priya', 'Neha', 'Pooja', 'Anjali', 'Swati', 'Kavita', 'Sunita', 'Anita',\n",
        "    'Deepika', 'Meera', 'Ritu', 'Suman', 'Kiran', 'Shweta', 'Madhuri', 'Radha',\n",
        "    'Geeta', 'Sita', 'Nisha', 'Asha', 'Lata', 'Rekha', 'Sarita', 'Sheela',\n",
        "    'Meena', 'Padma', 'Usha', 'Pushpa', 'Rama', 'Sonia', 'Chandni', 'Vaishali',\n",
        "    'Bhavna', 'Sneha', 'Rupali', 'Pallavi', 'Sheetal', 'Komal', 'Rupa',\n",
        "    'Rakhi', 'Aarti', 'Devika', 'Preeti', 'Jaya', 'Monika', 'Payal', 'Tanuja',\n",
        "    'Vidya', 'Radhika', 'Amrita', 'Sonal', 'Seema', 'Trisha', 'Isha', 'Namrata',\n",
        "    'Leela', 'Charu', 'Nandini', 'Mitali', 'Smita', 'Harshita', 'Kalpana',\n",
        "    'Priyanka', 'Akanksha', 'Anushka', 'Divya', 'Ranjana', 'Ishita', 'Janaki',\n",
        "    'Shilpa', 'Tanvi', 'Maya', 'Kritika', 'Anamika', 'Jyoti', 'Roshni', 'Bharti',\n",
        "    'Malini', 'Siddhi', 'Vandana', 'Archana', 'Rima', 'Supriya', 'Indira', 'Tara',\n",
        "    'Chitra', 'Snehal', 'Aparna', 'Veena', 'Gauri', 'Nayana', 'Meghna', 'Parvati',\n",
        "    'Kajal', 'Sanjana', 'Hemlata', 'Rachana', 'Shreekansha', 'Manisha', 'Sangita',\n",
        "    'Tejashree', 'Riya', 'Disha', 'Diksha', 'Sawita'\n",
        "]"
      ],
      "metadata": {
        "id": "LqiLDK-3-kOO"
      },
      "execution_count": null,
      "outputs": []
    },
    {
      "cell_type": "markdown",
      "source": [
        "# Extract multiple features from name"
      ],
      "metadata": {
        "id": "ECBPxWRdA2zC"
      }
    },
    {
      "cell_type": "code",
      "source": [
        "def get_features(name):\n",
        "    name = name.lower()\n",
        "    return {\n",
        "        'last_letter': name[-1],\n",
        "        'last_two_letters': name[-2:] if len(name) > 1 else name[-1],\n",
        "        'last_three_letters': name[-3:] if len(name) > 2 else name[-2:] if len(name) > 1 else name[-1],\n",
        "        'first_letter': name[0],\n",
        "        'name_length': len(name)\n",
        "    }"
      ],
      "metadata": {
        "id": "zyFVyxYS-oJp"
      },
      "execution_count": null,
      "outputs": []
    },
    {
      "cell_type": "markdown",
      "source": [
        "# Create dataset of (name, gender) pairs, including Indian names."
      ],
      "metadata": {
        "id": "WLZWxIV2A7HY"
      }
    },
    {
      "cell_type": "code",
      "source": [
        "def create_name_gender_pairs():\n",
        "    male_names = [(name, 'male') for name in names.words('male.txt')]\n",
        "    female_names = [(name, 'female') for name in names.words('female.txt')]\n",
        "\n",
        "    # Extend with Indian names\n",
        "    male_names.extend([(name, 'male') for name in indian_male_names])\n",
        "    female_names.extend([(name, 'female') for name in indian_female_names])\n",
        "\n",
        "    # Shuffle and return\n",
        "    name_gender_pairs = male_names + female_names\n",
        "    random.shuffle(name_gender_pairs)\n",
        "    return name_gender_pairs"
      ],
      "metadata": {
        "id": "bF6elVbl-oGR"
      },
      "execution_count": null,
      "outputs": []
    },
    {
      "cell_type": "markdown",
      "source": [
        "# Train and evaluate Naive Bayes Classifier using NLTK."
      ],
      "metadata": {
        "id": "eMF81YWXAKOE"
      }
    },
    {
      "cell_type": "code",
      "source": [
        "def train_nltk_naive_bayes(train_set):\n",
        "    train_features = [(get_features(name), gender) for (name, gender) in train_set]\n",
        "    classifier = nltk.NaiveBayesClassifier.train(train_features)\n",
        "    return classifier"
      ],
      "metadata": {
        "id": "uYM3GKjA-oDu"
      },
      "execution_count": null,
      "outputs": []
    },
    {
      "cell_type": "markdown",
      "source": [
        "# Predict gender using SpaCy model."
      ],
      "metadata": {
        "id": "6GMa0YqFBBJm"
      }
    },
    {
      "cell_type": "code",
      "source": [
        "def predict_spacy(name, nlp):\n",
        "    doc = nlp(name)\n",
        "    return doc.cats"
      ],
      "metadata": {
        "id": "NPkFTSMn-oA7"
      },
      "execution_count": null,
      "outputs": []
    },
    {
      "cell_type": "markdown",
      "source": [
        "# Train and evaluate Naive Bayes Classifier using Scikit-learn."
      ],
      "metadata": {
        "id": "F69YWKZ3BFjZ"
      }
    },
    {
      "cell_type": "code",
      "source": [
        "def train_sklearn(train_set, test_set):\n",
        "    # Extract features and labels\n",
        "    vectorizer = DictVectorizer(sparse=False)\n",
        "    X_train = vectorizer.fit_transform([get_features(name) for (name, gender) in train_set])\n",
        "    y_train = np.array([gender for (name, gender) in train_set])\n",
        "\n",
        "    X_test = vectorizer.transform([get_features(name) for (name, gender) in test_set])\n",
        "    y_test = np.array([gender for (name, gender) in test_set])\n",
        "\n",
        "    # Train Naive Bayes Classifier\n",
        "    clf = MultinomialNB()\n",
        "    clf.fit(X_train, y_train)\n",
        "\n",
        "    # Predict and evaluate\n",
        "    y_pred = clf.predict(X_test)\n",
        "    accuracy = accuracy_score(y_test, y_pred)\n",
        "\n",
        "    return clf, vectorizer, accuracy"
      ],
      "metadata": {
        "id": "7drusEp4_1th"
      },
      "execution_count": null,
      "outputs": []
    },
    {
      "cell_type": "code",
      "source": [
        "def main():\n",
        "    print(\"Preparing data...\")\n",
        "    name_gender_pairs = create_name_gender_pairs()\n",
        "    split_point = int(0.8 * len(name_gender_pairs))\n",
        "    train_set = name_gender_pairs[:split_point]\n",
        "    test_set = name_gender_pairs[split_point:]\n",
        "\n",
        "    print(\"\\nTraining NLTK Naive Bayes Classifier...\")\n",
        "    nltk_classifier = train_nltk_naive_bayes(train_set)\n",
        "    nltk_accuracy = nltk.classify.accuracy(\n",
        "        nltk_classifier, [(get_features(name), gender) for (name, gender) in test_set]\n",
        "    )\n",
        "    print(f\"NLTK Naive Bayes Accuracy: {nltk_accuracy:.2%}\")\n",
        "    nltk_classifier.show_most_informative_features(5)\n",
        "\n",
        "    print(\"\\nTraining Scikit-learn Classifier...\")\n",
        "    sklearn_clf, vectorizer, sklearn_accuracy = train_sklearn(train_set, test_set)\n",
        "    print(f\"Scikit-learn Naive Bayes Accuracy: {sklearn_accuracy:.2%}\")\n",
        "\n",
        "    print(\"\\nComparison Summary:\")\n",
        "    print(f\"NLTK Naive Bayes Accuracy: {nltk_accuracy:.2%}\")\n",
        "    print(f\"Scikit-learn Naive Bayes Accuracy: {sklearn_accuracy:.2%}\")\n",
        "\n",
        "    # Testing predictions\n",
        "    test_names = ['Mukesh', 'Priya', 'Rohit', 'Anjali', 'Michael', 'Emily']\n",
        "    print(\"\\nGender Predictions for Test Names:\")\n",
        "    for name in test_names:\n",
        "        nltk_pred = nltk_classifier.classify(get_features(name))\n",
        "        sklearn_pred = sklearn_clf.predict(vectorizer.transform([get_features(name)]))[0]\n",
        "        print(f\"{name}: NLTK -> {nltk_pred}, SKLearn -> {sklearn_pred}\")\n",
        "\n",
        "    # Interactive testingSayali\n",
        "    print(\"\\nEnter a name to predict gender (or 'quit' to exit):\")\n",
        "    while True:\n",
        "        name = input(\"Name: \").strip()\n",
        "        if name.lower() == 'quit':\n",
        "            break\n",
        "        if name:\n",
        "            # Predictions using both classifiers\n",
        "            nltk_pred = nltk_classifier.classify(get_features(name))\n",
        "            sklearn_pred = sklearn_clf.predict(vectorizer.transform([get_features(name)]))[0]\n",
        "            print(f\"Predicted gender: NLTK -> {nltk_pred}, SKLearn -> {sklearn_pred}\")\n",
        "\n",
        "if __name__ == \"__main__\":\n",
        "    main()"
      ],
      "metadata": {
        "colab": {
          "base_uri": "https://localhost:8080/"
        },
        "id": "nydj5Xl1_-Zi",
        "outputId": "f2a3dd2b-bf02-439d-b8fc-c3a808afd5c8"
      },
      "execution_count": null,
      "outputs": [
        {
          "name": "stdout",
          "output_type": "stream",
          "text": [
            "Preparing data...\n",
            "\n",
            "Training NLTK Naive Bayes Classifier...\n",
            "NLTK Naive Bayes Accuracy: 80.32%\n",
            "Most Informative Features\n",
            "        last_two_letters = 'na'           female : male   =    150.4 : 1.0\n",
            "        last_two_letters = 'la'           female : male   =     68.9 : 1.0\n",
            "        last_two_letters = 'ld'             male : female =     36.9 : 1.0\n",
            "        last_two_letters = 'ia'           female : male   =     36.1 : 1.0\n",
            "        last_two_letters = 'us'             male : female =     32.7 : 1.0\n",
            "\n",
            "Training Scikit-learn Classifier...\n",
            "Scikit-learn Naive Bayes Accuracy: 80.75%\n",
            "\n",
            "Comparison Summary:\n",
            "NLTK Naive Bayes Accuracy: 80.32%\n",
            "Scikit-learn Naive Bayes Accuracy: 80.75%\n",
            "\n",
            "Gender Predictions for Test Names:\n",
            "Mukesh: NLTK -> male, SKLearn -> male\n",
            "Priya: NLTK -> female, SKLearn -> female\n",
            "Rohit: NLTK -> male, SKLearn -> male\n",
            "Anjali: NLTK -> female, SKLearn -> female\n",
            "Michael: NLTK -> male, SKLearn -> male\n",
            "Emily: NLTK -> female, SKLearn -> female\n",
            "\n",
            "Enter a name to predict gender (or 'quit' to exit):\n",
            "Name: mukesh\n",
            "Predicted gender: NLTK -> male, SKLearn -> male\n",
            "Name: NIKITA\n",
            "Predicted gender: NLTK -> female, SKLearn -> female\n",
            "Name: Vaibhav\n",
            "Predicted gender: NLTK -> male, SKLearn -> male\n",
            "Name: Sayali\n",
            "Predicted gender: NLTK -> female, SKLearn -> female\n",
            "Name: AKANKSHA\n",
            "Predicted gender: NLTK -> female, SKLearn -> female\n",
            "Name: quit\n"
          ]
        }
      ]
    },
    {
      "cell_type": "markdown",
      "source": [
        "# **Observations**\n",
        "\n",
        "1. **Model Performance:**\n",
        "   - Both NLTK (80.32%) and Scikit-learn (80.75%) classifiers demonstrated reliable performance in gender prediction.\n",
        "   - Scikit-learn showed slightly better generalization, though both were effective.\n",
        "\n",
        "2. **Key Features:**\n",
        "   - **Last letters** (e.g., \"na,\" \"la,\" \"ld,\" \"us\") significantly influence predictions.\n",
        "   - Features align well with linguistic patterns in Indian and English names.\n",
        "\n",
        "3. **Model Comparison:**\n",
        "   - Both models showed consistent and similar accuracy, with less than a 0.5% difference.\n",
        "   - Scikit-learn's design might handle diverse datasets more effectively.\n",
        "\n",
        "4. **Prediction Accuracy:**\n",
        "   - Models successfully predicted genders for common and unseen names.\n",
        "   - Consistent predictions were observed across all test cases.\n",
        "\n",
        "5. **Interactive Testing:**\n",
        "   - Robust handling of **case insensitivity** (e.g., \"mukesh\" vs. \"AKANKSHA\").\n",
        "   - Accurate predictions for names with varying suffixes and lengths.\n",
        "\n",
        "6. **Insights:**\n",
        "   - Features like last letters, name length, and first letters were impactful.\n",
        "   - ~80% accuracy is promising but leaves scope for improvement, especially for ambiguous names."
      ],
      "metadata": {
        "id": "L0_gigSdWaMx"
      }
    },
    {
      "cell_type": "markdown",
      "source": [
        "# **Inference**  \n",
        "The gender prediction models (NLTK and Scikit-learn) performed reliably with ~80% accuracy, demonstrating the effectiveness of features like last letters and name structure. Both models consistently predicted genders for common and unseen names, handling case insensitivity and diverse suffix patterns well. Scikit-learn slightly outperformed NLTK, indicating better scalability. While the results are promising, refining features or using more advanced techniques could further enhance accuracy."
      ],
      "metadata": {
        "id": "_yC0qcf4WuTi"
      }
    }
  ]
}
